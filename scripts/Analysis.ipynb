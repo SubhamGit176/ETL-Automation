{
 "cells": [
  {
   "cell_type": "code",
   "execution_count": 7,
   "metadata": {},
   "outputs": [],
   "source": [
    "from pyspark.sql import SparkSession\n"
   ]
  },
  {
   "cell_type": "code",
   "execution_count": 56,
   "metadata": {},
   "outputs": [],
   "source": [
    "from pyspark.sql.functions import col, count, isnan, when, round, monotonically_increasing_id"
   ]
  },
  {
   "cell_type": "code",
   "execution_count": 9,
   "metadata": {},
   "outputs": [],
   "source": [
    "spark = SparkSession.builder \\\n",
    "    .appName(\"Ecommerce Analysis\") \\\n",
    "    .getOrCreate()"
   ]
  },
  {
   "cell_type": "code",
   "execution_count": 11,
   "metadata": {},
   "outputs": [
    {
     "data": {
      "text/html": [
       "\n",
       "            <div>\n",
       "                <p><b>SparkSession - in-memory</b></p>\n",
       "                \n",
       "        <div>\n",
       "            <p><b>SparkContext</b></p>\n",
       "\n",
       "            <p><a href=\"http://DESKTOP-LJNKBK7:4040\">Spark UI</a></p>\n",
       "\n",
       "            <dl>\n",
       "              <dt>Version</dt>\n",
       "                <dd><code>v3.5.0</code></dd>\n",
       "              <dt>Master</dt>\n",
       "                <dd><code>local[*]</code></dd>\n",
       "              <dt>AppName</dt>\n",
       "                <dd><code>Ecommerce Analysis</code></dd>\n",
       "            </dl>\n",
       "        </div>\n",
       "        \n",
       "            </div>\n",
       "        "
      ],
      "text/plain": [
       "<pyspark.sql.session.SparkSession at 0x1e56850a470>"
      ]
     },
     "execution_count": 11,
     "metadata": {},
     "output_type": "execute_result"
    }
   ],
   "source": [
    "spark"
   ]
  },
  {
   "cell_type": "code",
   "execution_count": 14,
   "metadata": {},
   "outputs": [],
   "source": [
    "transformed_data = \"Path/To/TransformedData\""
   ]
  },
  {
   "cell_type": "code",
   "execution_count": 16,
   "metadata": {},
   "outputs": [],
   "source": [
    "df = spark.read.csv(transformed_data,header=True, inferSchema=True)"
   ]
  },
  {
   "cell_type": "code",
   "execution_count": 17,
   "metadata": {},
   "outputs": [
    {
     "data": {
      "text/plain": [
       "DataFrame[Order Date: string, Title: string, Price: double, Count: int, Total Sales: double, Month: string]"
      ]
     },
     "execution_count": 17,
     "metadata": {},
     "output_type": "execute_result"
    }
   ],
   "source": [
    "df"
   ]
  },
  {
   "cell_type": "code",
   "execution_count": 18,
   "metadata": {},
   "outputs": [
    {
     "name": "stdout",
     "output_type": "stream",
     "text": [
      "+----------+--------------------+------+-----+------------------+-----+\n",
      "|Order Date|               Title| Price|Count|       Total Sales|Month|\n",
      "+----------+--------------------+------+-----+------------------+-----+\n",
      "|      NULL|Fjallraven - Fold...|109.95|  120|           13194.0| NULL|\n",
      "|      NULL|Mens Casual Premi...|  22.3|  259|            5775.7| NULL|\n",
      "|      NULL|  Mens Cotton Jacket| 55.99|  500|           27995.0| NULL|\n",
      "|      NULL|Mens Casual Slim Fit| 15.99|  430|            6875.7| NULL|\n",
      "|      NULL|John Hardy Women'...| 695.0|  400|          278000.0| NULL|\n",
      "|      NULL|Solid Gold Petite...| 168.0|   70|           11760.0| NULL|\n",
      "|      NULL|White Gold Plated...|  9.99|  400|            3996.0| NULL|\n",
      "|      NULL|Pierced Owl Rose ...| 10.99|  100|            1099.0| NULL|\n",
      "|      NULL|WD 2TB Elements P...|  64.0|  203|           12992.0| NULL|\n",
      "|      NULL|SanDisk SSD PLUS ...| 109.0|  470|           51230.0| NULL|\n",
      "|      NULL|Silicon Power 256...| 109.0|  319|           34771.0| NULL|\n",
      "|      NULL|WD 4TB Gaming Dri...| 114.0|  400|           45600.0| NULL|\n",
      "|      NULL|Acer SB220Q bi 21...| 599.0|  250|          149750.0| NULL|\n",
      "|      NULL|Samsung 49-Inch C...|999.99|  140|          139998.6| NULL|\n",
      "|      NULL|BIYLACLESEN Women...| 56.99|  235|          13392.65| NULL|\n",
      "|      NULL|Lock and Love Wom...| 29.95|  340|           10183.0| NULL|\n",
      "|      NULL|Rain Jacket Women...| 39.99|  679|27153.210000000003| NULL|\n",
      "|      NULL|MBJ Women's Solid...|  9.85|  130|            1280.5| NULL|\n",
      "|      NULL|Opna Women's Shor...|  7.95|  146|            1160.7| NULL|\n",
      "|      NULL|DANVOUY Womens T ...| 12.99|  145|           1883.55| NULL|\n",
      "+----------+--------------------+------+-----+------------------+-----+\n",
      "\n"
     ]
    }
   ],
   "source": [
    "df.show()"
   ]
  },
  {
   "cell_type": "code",
   "execution_count": 20,
   "metadata": {},
   "outputs": [
    {
     "name": "stdout",
     "output_type": "stream",
     "text": [
      "root\n",
      " |-- Order Date: string (nullable = true)\n",
      " |-- Title: string (nullable = true)\n",
      " |-- Price: double (nullable = true)\n",
      " |-- Count: integer (nullable = true)\n",
      " |-- Total Sales: double (nullable = true)\n",
      " |-- Month: string (nullable = true)\n",
      "\n"
     ]
    }
   ],
   "source": [
    "df.printSchema()"
   ]
  },
  {
   "cell_type": "code",
   "execution_count": 61,
   "metadata": {},
   "outputs": [
    {
     "name": "stdout",
     "output_type": "stream",
     "text": [
      "+----------+--------------------+------+-----+-----------+-----+----+\n",
      "|Order Date|               Title| Price|Count|Total Sales|Month|P_ID|\n",
      "+----------+--------------------+------+-----+-----------+-----+----+\n",
      "|      NULL|Fjallraven - Fold...|109.95|  120|    13194.0| NULL|   1|\n",
      "|      NULL|Mens Casual Premi...|  22.3|  259|     5775.7| NULL|   2|\n",
      "|      NULL|  Mens Cotton Jacket| 55.99|  500|    27995.0| NULL|   3|\n",
      "|      NULL|Mens Casual Slim Fit| 15.99|  430|     6875.7| NULL|   4|\n",
      "|      NULL|John Hardy Women'...| 695.0|  400|   278000.0| NULL|   5|\n",
      "+----------+--------------------+------+-----+-----------+-----+----+\n",
      "only showing top 5 rows\n",
      "\n"
     ]
    }
   ],
   "source": [
    "df.show(5)"
   ]
  },
  {
   "cell_type": "code",
   "execution_count": 62,
   "metadata": {},
   "outputs": [
    {
     "name": "stdout",
     "output_type": "stream",
     "text": [
      "+----------+-----+-----+-----+-----------+-----+----+\n",
      "|Order Date|Title|Price|Count|Total Sales|Month|P_ID|\n",
      "+----------+-----+-----+-----+-----------+-----+----+\n",
      "|        20|    0|    0|    0|          0|   20|   0|\n",
      "+----------+-----+-----+-----+-----------+-----+----+\n",
      "\n"
     ]
    }
   ],
   "source": [
    "null_counts = df.select([count(when(isnan(c) | col(c).isNull(), c)).alias(c) for c in df.columns])\n",
    "null_counts.show()"
   ]
  },
  {
   "cell_type": "code",
   "execution_count": 63,
   "metadata": {},
   "outputs": [],
   "source": [
    "df = df.withColumn(\"P_ID\", (monotonically_increasing_id() + 1) % 1000)"
   ]
  },
  {
   "cell_type": "code",
   "execution_count": 58,
   "metadata": {},
   "outputs": [],
   "source": [
    "total_sales_per_product = df.groupBy(\"Title\").sum(\"Total Sales\")"
   ]
  },
  {
   "cell_type": "code",
   "execution_count": 59,
   "metadata": {},
   "outputs": [
    {
     "name": "stdout",
     "output_type": "stream",
     "text": [
      "+--------------------+------------------+\n",
      "|               Title|  sum(Total Sales)|\n",
      "+--------------------+------------------+\n",
      "|Opna Women's Shor...|            1160.7|\n",
      "|Solid Gold Petite...|           11760.0|\n",
      "|Mens Casual Slim Fit|            6875.7|\n",
      "|MBJ Women's Solid...|            1280.5|\n",
      "|Rain Jacket Women...|27153.210000000003|\n",
      "|WD 2TB Elements P...|           12992.0|\n",
      "|BIYLACLESEN Women...|          13392.65|\n",
      "|John Hardy Women'...|          278000.0|\n",
      "|DANVOUY Womens T ...|           1883.55|\n",
      "|Pierced Owl Rose ...|            1099.0|\n",
      "|Fjallraven - Fold...|           13194.0|\n",
      "|Mens Casual Premi...|            5775.7|\n",
      "|Lock and Love Wom...|           10183.0|\n",
      "|White Gold Plated...|            3996.0|\n",
      "|Silicon Power 256...|           34771.0|\n",
      "|Acer SB220Q bi 21...|          149750.0|\n",
      "|Samsung 49-Inch C...|          139998.6|\n",
      "|SanDisk SSD PLUS ...|           51230.0|\n",
      "|  Mens Cotton Jacket|           27995.0|\n",
      "|WD 4TB Gaming Dri...|           45600.0|\n",
      "+--------------------+------------------+\n",
      "\n"
     ]
    }
   ],
   "source": [
    "total_sales_per_product.show()"
   ]
  },
  {
   "cell_type": "code",
   "execution_count": 60,
   "metadata": {},
   "outputs": [],
   "source": [
    "rounded_data = df.withColumn(\"Total_Sales_Product\",round(df['Total Sales'],2))"
   ]
  },
  {
   "cell_type": "code",
   "execution_count": 37,
   "metadata": {},
   "outputs": [
    {
     "name": "stdout",
     "output_type": "stream",
     "text": [
      "+----------+--------------------+------+-----+------------------+-----+-------------------+\n",
      "|Order Date|               Title| Price|Count|       Total Sales|Month|Total_Sales_Product|\n",
      "+----------+--------------------+------+-----+------------------+-----+-------------------+\n",
      "|      NULL|Fjallraven - Fold...|109.95|  120|           13194.0| NULL|            13194.0|\n",
      "|      NULL|Mens Casual Premi...|  22.3|  259|            5775.7| NULL|             5775.7|\n",
      "|      NULL|  Mens Cotton Jacket| 55.99|  500|           27995.0| NULL|            27995.0|\n",
      "|      NULL|Mens Casual Slim Fit| 15.99|  430|            6875.7| NULL|             6875.7|\n",
      "|      NULL|John Hardy Women'...| 695.0|  400|          278000.0| NULL|           278000.0|\n",
      "|      NULL|Solid Gold Petite...| 168.0|   70|           11760.0| NULL|            11760.0|\n",
      "|      NULL|White Gold Plated...|  9.99|  400|            3996.0| NULL|             3996.0|\n",
      "|      NULL|Pierced Owl Rose ...| 10.99|  100|            1099.0| NULL|             1099.0|\n",
      "|      NULL|WD 2TB Elements P...|  64.0|  203|           12992.0| NULL|            12992.0|\n",
      "|      NULL|SanDisk SSD PLUS ...| 109.0|  470|           51230.0| NULL|            51230.0|\n",
      "|      NULL|Silicon Power 256...| 109.0|  319|           34771.0| NULL|            34771.0|\n",
      "|      NULL|WD 4TB Gaming Dri...| 114.0|  400|           45600.0| NULL|            45600.0|\n",
      "|      NULL|Acer SB220Q bi 21...| 599.0|  250|          149750.0| NULL|           149750.0|\n",
      "|      NULL|Samsung 49-Inch C...|999.99|  140|          139998.6| NULL|           139998.6|\n",
      "|      NULL|BIYLACLESEN Women...| 56.99|  235|          13392.65| NULL|           13392.65|\n",
      "|      NULL|Lock and Love Wom...| 29.95|  340|           10183.0| NULL|            10183.0|\n",
      "|      NULL|Rain Jacket Women...| 39.99|  679|27153.210000000003| NULL|           27153.21|\n",
      "|      NULL|MBJ Women's Solid...|  9.85|  130|            1280.5| NULL|             1280.5|\n",
      "|      NULL|Opna Women's Shor...|  7.95|  146|            1160.7| NULL|             1160.7|\n",
      "|      NULL|DANVOUY Womens T ...| 12.99|  145|           1883.55| NULL|            1883.55|\n",
      "+----------+--------------------+------+-----+------------------+-----+-------------------+\n",
      "\n"
     ]
    }
   ],
   "source": [
    "rounded_data.show()"
   ]
  },
  {
   "cell_type": "code",
   "execution_count": 42,
   "metadata": {},
   "outputs": [],
   "source": [
    "total_sales_rounded = total_sales_per_product.withColumn(\"Total_Sales_Product\",round(total_sales_per_product['sum(Total Sales)'],1))"
   ]
  },
  {
   "cell_type": "code",
   "execution_count": 43,
   "metadata": {},
   "outputs": [
    {
     "name": "stdout",
     "output_type": "stream",
     "text": [
      "+--------------------+------------------+-------------------+\n",
      "|               Title|  sum(Total Sales)|Total_Sales_Product|\n",
      "+--------------------+------------------+-------------------+\n",
      "|Opna Women's Shor...|            1160.7|             1160.7|\n",
      "|Solid Gold Petite...|           11760.0|            11760.0|\n",
      "|Mens Casual Slim Fit|            6875.7|             6875.7|\n",
      "|MBJ Women's Solid...|            1280.5|             1280.5|\n",
      "|Rain Jacket Women...|27153.210000000003|            27153.2|\n",
      "|WD 2TB Elements P...|           12992.0|            12992.0|\n",
      "|BIYLACLESEN Women...|          13392.65|            13392.7|\n",
      "|John Hardy Women'...|          278000.0|           278000.0|\n",
      "|DANVOUY Womens T ...|           1883.55|             1883.6|\n",
      "|Pierced Owl Rose ...|            1099.0|             1099.0|\n",
      "|Fjallraven - Fold...|           13194.0|            13194.0|\n",
      "|Mens Casual Premi...|            5775.7|             5775.7|\n",
      "|Lock and Love Wom...|           10183.0|            10183.0|\n",
      "|White Gold Plated...|            3996.0|             3996.0|\n",
      "|Silicon Power 256...|           34771.0|            34771.0|\n",
      "|Acer SB220Q bi 21...|          149750.0|           149750.0|\n",
      "|Samsung 49-Inch C...|          139998.6|           139998.6|\n",
      "|SanDisk SSD PLUS ...|           51230.0|            51230.0|\n",
      "|  Mens Cotton Jacket|           27995.0|            27995.0|\n",
      "|WD 4TB Gaming Dri...|           45600.0|            45600.0|\n",
      "+--------------------+------------------+-------------------+\n",
      "\n"
     ]
    }
   ],
   "source": [
    "total_sales_rounded.show()"
   ]
  },
  {
   "cell_type": "code",
   "execution_count": 44,
   "metadata": {},
   "outputs": [],
   "source": [
    "total_sales_rounded = total_sales_rounded.drop('sum(Total Sales)')"
   ]
  },
  {
   "cell_type": "code",
   "execution_count": 46,
   "metadata": {},
   "outputs": [
    {
     "name": "stdout",
     "output_type": "stream",
     "text": [
      "+--------------------+-------------------+\n",
      "|               Title|Total_Sales_Product|\n",
      "+--------------------+-------------------+\n",
      "|Opna Women's Shor...|             1160.7|\n",
      "|Solid Gold Petite...|            11760.0|\n",
      "|Mens Casual Slim Fit|             6875.7|\n",
      "|MBJ Women's Solid...|             1280.5|\n",
      "|Rain Jacket Women...|            27153.2|\n",
      "|WD 2TB Elements P...|            12992.0|\n",
      "|BIYLACLESEN Women...|            13392.7|\n",
      "|John Hardy Women'...|           278000.0|\n",
      "|DANVOUY Womens T ...|             1883.6|\n",
      "|Pierced Owl Rose ...|             1099.0|\n",
      "|Fjallraven - Fold...|            13194.0|\n",
      "|Mens Casual Premi...|             5775.7|\n",
      "|Lock and Love Wom...|            10183.0|\n",
      "|White Gold Plated...|             3996.0|\n",
      "|Silicon Power 256...|            34771.0|\n",
      "|Acer SB220Q bi 21...|           149750.0|\n",
      "|Samsung 49-Inch C...|           139998.6|\n",
      "|SanDisk SSD PLUS ...|            51230.0|\n",
      "|  Mens Cotton Jacket|            27995.0|\n",
      "|WD 4TB Gaming Dri...|            45600.0|\n",
      "+--------------------+-------------------+\n",
      "\n"
     ]
    }
   ],
   "source": [
    "total_sales_rounded.show()"
   ]
  },
  {
   "cell_type": "code",
   "execution_count": 47,
   "metadata": {},
   "outputs": [],
   "source": [
    "top_sales_product = total_sales_rounded.orderBy(\"Total_Sales_Product\", ascending=False).limit(1)"
   ]
  },
  {
   "cell_type": "code",
   "execution_count": 48,
   "metadata": {},
   "outputs": [
    {
     "name": "stdout",
     "output_type": "stream",
     "text": [
      "+--------------------+-------------------+\n",
      "|               Title|Total_Sales_Product|\n",
      "+--------------------+-------------------+\n",
      "|John Hardy Women'...|           278000.0|\n",
      "+--------------------+-------------------+\n",
      "\n"
     ]
    }
   ],
   "source": [
    "top_sales_product.show()"
   ]
  },
  {
   "cell_type": "code",
   "execution_count": 49,
   "metadata": {},
   "outputs": [],
   "source": [
    "least_sales_product = total_sales_rounded.orderBy(\"Total_Sales_Product\", ascending=True).limit(1)"
   ]
  },
  {
   "cell_type": "code",
   "execution_count": 50,
   "metadata": {},
   "outputs": [
    {
     "name": "stdout",
     "output_type": "stream",
     "text": [
      "+--------------------+-------------------+\n",
      "|               Title|Total_Sales_Product|\n",
      "+--------------------+-------------------+\n",
      "|Pierced Owl Rose ...|             1099.0|\n",
      "+--------------------+-------------------+\n",
      "\n"
     ]
    }
   ],
   "source": [
    "least_sales_product.show()"
   ]
  },
  {
   "cell_type": "code",
   "execution_count": 51,
   "metadata": {},
   "outputs": [],
   "source": [
    "import matplotlib.pyplot as plt"
   ]
  },
  {
   "cell_type": "code",
   "execution_count": 66,
   "metadata": {},
   "outputs": [
    {
     "data": {
      "image/png": "[encoded data removed]",
      "text/plain": [
       "<Figure size 720x432 with 1 Axes>"
      ]
     },
     "metadata": {
      "needs_background": "light"
     },
     "output_type": "display_data"
    }
   ],
   "source": [
    "top_sales_products_pd = df.toPandas()\n",
    "\n",
    "# Plot the data\n",
    "plt.figure(figsize=(10, 6))\n",
    "plt.bar(top_sales_products_pd['P_ID'], top_sales_products_pd['Total Sales'], color='skyblue')\n",
    "plt.xlabel('Product ID')\n",
    "plt.ylabel('Total Sales')\n",
    "plt.title('Top Sales Products')\n",
    "plt.show()\n"
   ]
  },
  {
   "cell_type": "code",
   "execution_count": 53,
   "metadata": {},
   "outputs": [],
   "source": [
    "#Since the product names are not visible in the plot, we will create a new ID column in our table"
   ]
  },
  {
   "cell_type": "code",
   "execution_count": null,
   "metadata": {},
   "outputs": [],
   "source": []
  }
 ],
 "metadata": {
  "kernelspec": {
   "display_name": "Python 3",
   "language": "python",
   "name": "python3"
  },
  "language_info": {
   "codemirror_mode": {
    "name": "ipython",
    "version": 3
   },
   "file_extension": ".py",
   "mimetype": "text/x-python",
   "name": "python",
   "nbconvert_exporter": "python",
   "pygments_lexer": "ipython3",
   "version": "3.7.3"
  }
 },
 "nbformat": 4,
 "nbformat_minor": 2
}
